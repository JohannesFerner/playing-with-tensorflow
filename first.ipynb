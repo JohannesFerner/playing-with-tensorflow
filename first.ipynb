{
  "nbformat": 4,
  "nbformat_minor": 0,
  "metadata": {
    "colab": {
      "name": "first.ipynb",
      "version": "0.3.2",
      "provenance": []
    },
    "kernelspec": {
      "name": "python3",
      "display_name": "Python 3"
    },
    "accelerator": "GPU"
  },
  "cells": [
    {
      "cell_type": "markdown",
      "metadata": {
        "id": "view-in-github",
        "colab_type": "text"
      },
      "source": [
        "[View in Colaboratory](https://colab.research.google.com/github/JohannesFerner/playing-with-tensorflow/blob/master/first.ipynb)"
      ]
    },
    {
      "metadata": {
        "id": "ESkS3k7sHQDj",
        "colab_type": "text"
      },
      "cell_type": "markdown",
      "source": [
        "# Playing around with Tensorflow using collab.research.google.com "
      ]
    },
    {
      "metadata": {
        "id": "08N-HsbHHUCa",
        "colab_type": "code",
        "colab": {}
      },
      "cell_type": "code",
      "source": [
        "import tensorflow as tf\n",
        "import pandas as pd\n",
        "import numpy as np\n",
        "\n",
        "import matplotlib.pyplot as plt\n"
      ],
      "execution_count": 0,
      "outputs": []
    },
    {
      "metadata": {
        "id": "ZLPD43C0Hpwr",
        "colab_type": "text"
      },
      "cell_type": "markdown",
      "source": [
        "## Goal of this project: \n",
        "\n",
        "\n",
        "*   Import Bitcoin price data\n",
        "*   Clean Data\n",
        "*   Split in Train+Test Data\n",
        "*   ... go with the flow ;-)\n"
      ]
    },
    {
      "metadata": {
        "id": "eeIqPz9cTNez",
        "colab_type": "code",
        "colab": {}
      },
      "cell_type": "code",
      "source": [
        "# Get the data (stored at my github repository)\n",
        "from io import BytesIO\n",
        "from zipfile import ZipFile\n",
        "from urllib.request import urlopen\n",
        "# or: requests.get(url).content\n",
        "\n",
        "resp = urlopen('https://raw.githubusercontent.com/JohannesFerner/playing-with-tensorflow/master/data/bitstampUSD_1-min_data_2012-01-01_to_2018-03-27.csv.zip')\n",
        "zipfile = ZipFile(BytesIO(resp.read()))\n",
        "filenames = zipfile.namelist()"
      ],
      "execution_count": 0,
      "outputs": []
    },
    {
      "metadata": {
        "id": "QVzhFBJNTSpU",
        "colab_type": "code",
        "colab": {
          "base_uri": "https://localhost:8080/",
          "height": 459
        },
        "outputId": "0ecb4ed0-f025-4f2d-c143-b74b805435fa"
      },
      "cell_type": "code",
      "source": [
        "# Seperate code-container, to be easy on github traffic\n",
        "df = pd.read_csv(zipfile.open(filenames[0]))\n",
        "# Convert Unix Timestamp to DateTime\n",
        "df['Timestamp'] = pd.to_datetime(df['Timestamp'], unit='s')\n",
        "\n",
        "# Data Exploration\n",
        "df.info()\n",
        "\n",
        "print('First Data')\n",
        "df.head()\n",
        "\n",
        "print('Latest Data')\n",
        "df.tail()"
      ],
      "execution_count": 3,
      "outputs": [
        {
          "output_type": "stream",
          "text": [
            "<class 'pandas.core.frame.DataFrame'>\n",
            "RangeIndex: 3273377 entries, 0 to 3273376\n",
            "Data columns (total 8 columns):\n",
            "Timestamp            datetime64[ns]\n",
            "Open                 float64\n",
            "High                 float64\n",
            "Low                  float64\n",
            "Close                float64\n",
            "Volume_(BTC)         float64\n",
            "Volume_(Currency)    float64\n",
            "Weighted_Price       float64\n",
            "dtypes: datetime64[ns](1), float64(7)\n",
            "memory usage: 199.8 MB\n",
            "First Data\n",
            "Latest Data\n"
          ],
          "name": "stdout"
        },
        {
          "output_type": "execute_result",
          "data": {
            "text/html": [
              "<div>\n",
              "<style scoped>\n",
              "    .dataframe tbody tr th:only-of-type {\n",
              "        vertical-align: middle;\n",
              "    }\n",
              "\n",
              "    .dataframe tbody tr th {\n",
              "        vertical-align: top;\n",
              "    }\n",
              "\n",
              "    .dataframe thead th {\n",
              "        text-align: right;\n",
              "    }\n",
              "</style>\n",
              "<table border=\"1\" class=\"dataframe\">\n",
              "  <thead>\n",
              "    <tr style=\"text-align: right;\">\n",
              "      <th></th>\n",
              "      <th>Timestamp</th>\n",
              "      <th>Open</th>\n",
              "      <th>High</th>\n",
              "      <th>Low</th>\n",
              "      <th>Close</th>\n",
              "      <th>Volume_(BTC)</th>\n",
              "      <th>Volume_(Currency)</th>\n",
              "      <th>Weighted_Price</th>\n",
              "    </tr>\n",
              "  </thead>\n",
              "  <tbody>\n",
              "    <tr>\n",
              "      <th>3273372</th>\n",
              "      <td>2018-03-26 23:56:00</td>\n",
              "      <td>8159.21</td>\n",
              "      <td>8159.39</td>\n",
              "      <td>8153.62</td>\n",
              "      <td>8153.68</td>\n",
              "      <td>0.663192</td>\n",
              "      <td>5408.215377</td>\n",
              "      <td>8154.826880</td>\n",
              "    </tr>\n",
              "    <tr>\n",
              "      <th>3273373</th>\n",
              "      <td>2018-03-26 23:57:00</td>\n",
              "      <td>8159.38</td>\n",
              "      <td>8163.72</td>\n",
              "      <td>8152.81</td>\n",
              "      <td>8155.00</td>\n",
              "      <td>3.720024</td>\n",
              "      <td>30333.753144</td>\n",
              "      <td>8154.182788</td>\n",
              "    </tr>\n",
              "    <tr>\n",
              "      <th>3273374</th>\n",
              "      <td>2018-03-26 23:58:00</td>\n",
              "      <td>8157.47</td>\n",
              "      <td>8158.60</td>\n",
              "      <td>8130.01</td>\n",
              "      <td>8130.01</td>\n",
              "      <td>27.294436</td>\n",
              "      <td>222388.761970</td>\n",
              "      <td>8147.769162</td>\n",
              "    </tr>\n",
              "    <tr>\n",
              "      <th>3273375</th>\n",
              "      <td>2018-03-26 23:59:00</td>\n",
              "      <td>8145.17</td>\n",
              "      <td>8149.66</td>\n",
              "      <td>8130.01</td>\n",
              "      <td>8149.66</td>\n",
              "      <td>23.065281</td>\n",
              "      <td>187570.784940</td>\n",
              "      <td>8132.169837</td>\n",
              "    </tr>\n",
              "    <tr>\n",
              "      <th>3273376</th>\n",
              "      <td>2018-03-27 00:00:00</td>\n",
              "      <td>8152.26</td>\n",
              "      <td>8164.68</td>\n",
              "      <td>8151.37</td>\n",
              "      <td>8153.04</td>\n",
              "      <td>17.758130</td>\n",
              "      <td>144820.147410</td>\n",
              "      <td>8155.146220</td>\n",
              "    </tr>\n",
              "  </tbody>\n",
              "</table>\n",
              "</div>"
            ],
            "text/plain": [
              "                  Timestamp     Open     High      Low    Close  Volume_(BTC)  \\\n",
              "3273372 2018-03-26 23:56:00  8159.21  8159.39  8153.62  8153.68      0.663192   \n",
              "3273373 2018-03-26 23:57:00  8159.38  8163.72  8152.81  8155.00      3.720024   \n",
              "3273374 2018-03-26 23:58:00  8157.47  8158.60  8130.01  8130.01     27.294436   \n",
              "3273375 2018-03-26 23:59:00  8145.17  8149.66  8130.01  8149.66     23.065281   \n",
              "3273376 2018-03-27 00:00:00  8152.26  8164.68  8151.37  8153.04     17.758130   \n",
              "\n",
              "         Volume_(Currency)  Weighted_Price  \n",
              "3273372        5408.215377     8154.826880  \n",
              "3273373       30333.753144     8154.182788  \n",
              "3273374      222388.761970     8147.769162  \n",
              "3273375      187570.784940     8132.169837  \n",
              "3273376      144820.147410     8155.146220  "
            ]
          },
          "metadata": {
            "tags": []
          },
          "execution_count": 3
        }
      ]
    },
    {
      "metadata": {
        "id": "OksM738GU1MX",
        "colab_type": "code",
        "colab": {
          "base_uri": "https://localhost:8080/",
          "height": 682
        },
        "outputId": "fc5ba883-4d49-4b08-c71c-8247bafb4da4"
      },
      "cell_type": "code",
      "source": [
        "df.plot(y='Weighted_Price', x='Timestamp')\n",
        "df.plot(y='Volume_(BTC)', x='Timestamp')"
      ],
      "execution_count": 4,
      "outputs": [
        {
          "output_type": "execute_result",
          "data": {
            "text/plain": [
              "<matplotlib.axes._subplots.AxesSubplot at 0x7fcd621c87f0>"
            ]
          },
          "metadata": {
            "tags": []
          },
          "execution_count": 4
        },
        {
          "output_type": "display_data",
          "data": {
            "image/png": "[encoded data removed]",
            "text/plain": [
              "<matplotlib.figure.Figure at 0x7fcd6c54ea58>"
            ]
          },
          "metadata": {
            "tags": []
          }
        },
        {
          "output_type": "display_data",
          "data": {
            "image/png": "[encoded data removed]",
            "text/plain": [
              "<matplotlib.figure.Figure at 0x7fcd6c54e9e8>"
            ]
          },
          "metadata": {
            "tags": []
          }
        }
      ]
    },
    {
      "metadata": {
        "id": "FNlwiehFWbdY",
        "colab_type": "code",
        "colab": {}
      },
      "cell_type": "code",
      "source": [
        ""
      ],
      "execution_count": 0,
      "outputs": []
    },
    {
      "metadata": {
        "id": "ncO-h30SH-F0",
        "colab_type": "code",
        "colab": {
          "base_uri": "https://localhost:8080/",
          "height": 34
        },
        "outputId": "e9110c74-6dd9-45c5-8810-21551b2ae8a0"
      },
      "cell_type": "code",
      "source": [
        "# https://colab.research.google.com/notebook#fileId=/v2/external/notebooks/gpu.ipynb&scrollTo=t9ALbbpmY9rm\n",
        "\n",
        "# Use GPU provided by Colab\n",
        "device_name = tf.test.gpu_device_name()\n",
        "if device_name != '/device:GPU:0':\n",
        "  raise SystemError('GPU device not found') # If you have an error go to Runtime -> Change Runtime type -> add GPU acceleration\n",
        "print('Found GPU at: {}'.format(device_name))\n",
        "\n"
      ],
      "execution_count": 5,
      "outputs": [
        {
          "output_type": "stream",
          "text": [
            "Found GPU at: /device:GPU:0\n"
          ],
          "name": "stdout"
        }
      ]
    }
  ]
}